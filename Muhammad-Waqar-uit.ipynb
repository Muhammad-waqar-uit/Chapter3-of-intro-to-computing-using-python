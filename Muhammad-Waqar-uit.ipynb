{
 "cells": [
  {
   "cell_type": "markdown",
   "metadata": {},
   "source": [
    "# Chapter 3 python  Muhammad Waqar 19b-116-SE"
   ]
  },
  {
   "cell_type": "code",
   "execution_count": 1,
   "metadata": {},
   "outputs": [
    {
     "name": "stdout",
     "output_type": "stream",
     "text": [
      "Hello python developer...\n",
      "welcome to the world of python!\n"
     ]
    }
   ],
   "source": [
    "line1=\"Hello python developer...\"\n",
    "line2=\"welcome to the world of python!\"\n",
    "print(line1)\n",
    "print(line2)"
   ]
  },
  {
   "cell_type": "code",
   "execution_count": 2,
   "metadata": {},
   "outputs": [
    {
     "name": "stdout",
     "output_type": "stream",
     "text": [
      "0\n"
     ]
    }
   ],
   "source": [
    "print(0)"
   ]
  },
  {
   "cell_type": "code",
   "execution_count": 4,
   "metadata": {},
   "outputs": [
    {
     "name": "stdout",
     "output_type": "stream",
     "text": [
      "0 0 0\n"
     ]
    }
   ],
   "source": [
    "print(0,0,0)"
   ]
  },
  {
   "cell_type": "code",
   "execution_count": 5,
   "metadata": {},
   "outputs": [
    {
     "name": "stdout",
     "output_type": "stream",
     "text": [
      "zero\n"
     ]
    }
   ],
   "source": [
    "print(\"zero\")"
   ]
  },
  {
   "cell_type": "code",
   "execution_count": 6,
   "metadata": {},
   "outputs": [
    {
     "name": "stdout",
     "output_type": "stream",
     "text": [
      "0\n"
     ]
    }
   ],
   "source": [
    "x=0\n",
    "print(x)"
   ]
  },
  {
   "cell_type": "code",
   "execution_count": 7,
   "metadata": {},
   "outputs": [
    {
     "name": "stdout",
     "output_type": "stream",
     "text": [
      "Enter your name: Muhammad Waqar\n",
      "Muhammad Waqar\n"
     ]
    }
   ],
   "source": [
    "name=input(\"Enter your name: \")\n",
    "print(name)"
   ]
  },
  {
   "cell_type": "code",
   "execution_count": 10,
   "metadata": {},
   "outputs": [
    {
     "name": "stdout",
     "output_type": "stream",
     "text": [
      "Enter your first name: Muhammmad\n",
      "Enter your last name: Waqar\n",
      "Hello Muhammmad Waqar---\n",
      "Welcome to the world of python!\n"
     ]
    }
   ],
   "source": [
    "first=input(\"Enter your first name: \")\n",
    "last=input(\"Enter your last name: \")\n",
    "line1=\"Hello \"+first+\" \"+last+\"---\"\n",
    "print(line1)\n",
    "print(\"Welcome to the world of python!\")"
   ]
  },
  {
   "cell_type": "code",
   "execution_count": 13,
   "metadata": {},
   "outputs": [
    {
     "name": "stdout",
     "output_type": "stream",
     "text": [
      "3\n"
     ]
    }
   ],
   "source": [
    "print(eval(\"3\"))"
   ]
  },
  {
   "cell_type": "code",
   "execution_count": 14,
   "metadata": {},
   "outputs": [
    {
     "name": "stdout",
     "output_type": "stream",
     "text": [
      "7\n"
     ]
    }
   ],
   "source": [
    "print(eval(\"3+4\"))"
   ]
  },
  {
   "cell_type": "code",
   "execution_count": 20,
   "metadata": {},
   "outputs": [
    {
     "data": {
      "text/plain": [
       "4"
      ]
     },
     "execution_count": 20,
     "metadata": {},
     "output_type": "execute_result"
    }
   ],
   "source": [
    "eval('len([3,4,5,6])')"
   ]
  },
  {
   "cell_type": "code",
   "execution_count": 21,
   "metadata": {},
   "outputs": [
    {
     "name": "stdout",
     "output_type": "stream",
     "text": [
      "Enter x:  5\n",
      "True\n",
      "False\n"
     ]
    }
   ],
   "source": [
    "x=eval(input(\"Enter x:  \"))\n",
    "print(x==5)\n",
    "print(x==\"5\")"
   ]
  },
  {
   "cell_type": "code",
   "execution_count": 26,
   "metadata": {},
   "outputs": [
    {
     "name": "stdout",
     "output_type": "stream",
     "text": [
      "Enter the tempreture in fahrenhiet:  50\n",
      "The tempreture in degree celsius is  10.0\n"
     ]
    }
   ],
   "source": [
    "#practice problem 3.1\n",
    "fahrenhiet=eval(input(\"Enter the tempreture in fahrenhiet:  \"))\n",
    "celsius=5/9*(fahrenhiet-32)\n",
    "print(\"The tempreture in degree celsius is \",celsius)"
   ]
  },
  {
   "cell_type": "code",
   "execution_count": 27,
   "metadata": {},
   "outputs": [
    {
     "name": "stdout",
     "output_type": "stream",
     "text": [
      "Enter the tempretur:  87\n",
      "it is hot\n",
      "be sure to dring liquids.\n"
     ]
    }
   ],
   "source": [
    "temp=eval(input(\"Enter the tempretur:  \"))\n",
    "\n",
    "if temp>86:\n",
    "    print(\"it is hot\")\n",
    "    print(\"be sure to dring liquids.\")\n",
    "print(\"Good bye.\")    "
   ]
  },
  {
   "cell_type": "code",
   "execution_count": 28,
   "metadata": {},
   "outputs": [
    {
     "name": "stdout",
     "output_type": "stream",
     "text": [
      "Enter the tempretur:  67\n",
      "Good bye.\n"
     ]
    }
   ],
   "source": [
    "temp=eval(input(\"Enter the tempretur:  \"))\n",
    "\n",
    "if temp>86:\n",
    "    print(\"it is hot\")\n",
    "    print(\"be sure to dring liquids.\")\n",
    "print(\"Good bye.\") "
   ]
  },
  {
   "cell_type": "code",
   "execution_count": 29,
   "metadata": {},
   "outputs": [
    {
     "name": "stdout",
     "output_type": "stream",
     "text": [
      "Enter your age:  68\n",
      "You can get your pension benefits.\n"
     ]
    }
   ],
   "source": [
    "#3.2 practice problem\n",
    "age=eval(input(\"Enter your age:  \"))\n",
    "if age>67:\n",
    "    print(\"You can get your pension benefits.\")"
   ]
  },
  {
   "cell_type": "code",
   "execution_count": 38,
   "metadata": {},
   "outputs": [
    {
     "name": "stdout",
     "output_type": "stream",
     "text": [
      "Enter the plyer name: Musial\n",
      "One of the top 5 best player, ever!\n"
     ]
    }
   ],
   "source": [
    "listOfStrings=[\"Musial\",\"Aaron\",\"Williams\",\"Gehrig\",\"Ruth\"]\n",
    "player= str(input(\"Enter the plyer name: \"))\n",
    "if player in listOfStrings :\n",
    "    print(\"One of the top 5 best player, ever!\")"
   ]
  },
  {
   "cell_type": "code",
   "execution_count": 44,
   "metadata": {},
   "outputs": [
    {
     "name": "stdout",
     "output_type": "stream",
     "text": [
      "I can escape.\n"
     ]
    }
   ],
   "source": [
    "if north or south or east or west: \n",
    "    print( \"I can escape.\" )\n",
    "    "
   ]
  },
  {
   "cell_type": "code",
   "execution_count": 46,
   "metadata": {},
   "outputs": [
    {
     "name": "stdout",
     "output_type": "stream",
     "text": [
      "Enter the tempretur:  65\n",
      "It is not hot.\n",
      "Bring a jacket.\n",
      "Good bye.\n"
     ]
    }
   ],
   "source": [
    "temp=eval(input(\"Enter the tempretur:  \"))\n",
    "\n",
    "if temp>86:\n",
    "    print(\"it is hot\")\n",
    "    print(\"be sure to dring liquids.\")\n",
    "else:\n",
    "    print(\"It is not hot.\")\n",
    "    print(\"Bring a jacket.\")\n",
    "print(\"Good bye.\") "
   ]
  },
  {
   "cell_type": "code",
   "execution_count": 48,
   "metadata": {},
   "outputs": [
    {
     "name": "stdout",
     "output_type": "stream",
     "text": [
      "Enter the year in digit form: 2019\n",
      "Definitely not a leap year.\n"
     ]
    }
   ],
   "source": [
    "#3.3 problem\n",
    "year=int(input(\"Enter the year in digit form: \"))\n",
    "if year % 4 == 0:\n",
    "    print(\"Could be a leap year.\")\n",
    "else:\n",
    "    print(\"Definitely not a leap year.\")"
   ]
  },
  {
   "cell_type": "code",
   "execution_count": 55,
   "metadata": {},
   "outputs": [
    {
     "name": "stdout",
     "output_type": "stream",
     "text": [
      "Enter the ticket number:441\n",
      "You won!\n"
     ]
    }
   ],
   "source": [
    "ticket= 441\n",
    "lottery =int(input(\"Enter the ticket number:\"))\n",
    "if ticket == lottery:\n",
    "    print(\"You won!\")\n",
    "else:\n",
    "    print(\"Better luck next time...\")"
   ]
  },
  {
   "cell_type": "code",
   "execution_count": 56,
   "metadata": {},
   "outputs": [
    {
     "name": "stdout",
     "output_type": "stream",
     "text": [
      "Login: joe\n",
      "You are in!\n",
      "Done.\n"
     ]
    }
   ],
   "source": [
    "#3.4\n",
    "valid_ids = ['joe','sue','hani','sophie']\n",
    "current_id = input( \"Login: \" )\n",
    "if current_id in valid_ids:\n",
    "     print(\"You are in!\")\n",
    "else:\n",
    "     print(\"User unknown.\")\n",
    "print(\"Done.\")"
   ]
  },
  {
   "cell_type": "code",
   "execution_count": 57,
   "metadata": {},
   "outputs": [
    {
     "name": "stdout",
     "output_type": "stream",
     "text": [
      "Login: waqar\n",
      "User unknown.\n",
      "Done.\n"
     ]
    }
   ],
   "source": [
    "valid_ids = ['joe','sue','hani','sophie']\n",
    "current_id = input( \"Login: \" )\n",
    "if current_id in valid_ids:\n",
    "     print(\"You are in!\")\n",
    "else:\n",
    "     print(\"User unknown.\")\n",
    "print(\"Done.\")"
   ]
  },
  {
   "cell_type": "code",
   "execution_count": 58,
   "metadata": {},
   "outputs": [
    {
     "name": "stdout",
     "output_type": "stream",
     "text": [
      "Enter the name: MuhammadWaqar\n",
      "The word spelled out:\n",
      "M\n",
      "u\n",
      "h\n",
      "a\n",
      "m\n",
      "m\n",
      "a\n",
      "d\n",
      "W\n",
      "a\n",
      "q\n",
      "a\n",
      "r\n"
     ]
    }
   ],
   "source": [
    "name=input(\"Enter the name: \")\n",
    "print(\"The word spelled out:\")\n",
    "for char in name:\n",
    "    print(char)"
   ]
  },
  {
   "cell_type": "code",
   "execution_count": 59,
   "metadata": {},
   "outputs": [
    {
     "name": "stdout",
     "output_type": "stream",
     "text": [
      "cat\n",
      "fish\n",
      "dog\n"
     ]
    }
   ],
   "source": [
    "animals=[\"cat\",\"fish\",\"dog\"]\n",
    "for animal in animals:\n",
    "    print(animal)"
   ]
  },
  {
   "cell_type": "code",
   "execution_count": 60,
   "metadata": {},
   "outputs": [
    {
     "name": "stdout",
     "output_type": "stream",
     "text": [
      "Enter a phrase: WAQAR\n",
      "A\n",
      "A\n"
     ]
    }
   ],
   "source": [
    "phrase=input(\"Enter a phrase: \")\n",
    "for c in phrase:\n",
    "    if c in \"aeiouAEIOU\":\n",
    "        print(c)"
   ]
  },
  {
   "cell_type": "code",
   "execution_count": 62,
   "metadata": {},
   "outputs": [
    {
     "name": "stdout",
     "output_type": "stream",
     "text": [
      "stop\n",
      "post\n"
     ]
    }
   ],
   "source": [
    "lst=[\"stop\",\"desktop\",\"top\",\"post\"]\n",
    "for element in lst:\n",
    "    if len(element) == 4:\n",
    "        print(element)"
   ]
  },
  {
   "cell_type": "code",
   "execution_count": 63,
   "metadata": {},
   "outputs": [
    {
     "name": "stdout",
     "output_type": "stream",
     "text": [
      "0\n",
      "1\n",
      "2\n",
      "3\n",
      "4\n"
     ]
    }
   ],
   "source": [
    "for i in range(5):\n",
    "    print(i)"
   ]
  },
  {
   "cell_type": "code",
   "execution_count": 67,
   "metadata": {},
   "outputs": [
    {
     "name": "stdout",
     "output_type": "stream",
     "text": [
      "0\n",
      "1\n",
      "2\n",
      "3\n",
      "4\n",
      "5\n",
      "6\n",
      "7\n",
      "8\n",
      "9\n",
      "=-=-=-=-\n",
      "0\n",
      "1\n"
     ]
    }
   ],
   "source": [
    "#3-6\n",
    "for i in range(10):\n",
    "    print(i)\n",
    "print(\"=-=-=-=-\")\n",
    "    \n",
    "for i in range(2):\n",
    "     print(i)"
   ]
  },
  {
   "cell_type": "code",
   "execution_count": 69,
   "metadata": {},
   "outputs": [
    {
     "name": "stdout",
     "output_type": "stream",
     "text": [
      "2\n",
      "3\n",
      "4\n"
     ]
    }
   ],
   "source": [
    "for i in range(2,5):\n",
    "    print(i)"
   ]
  },
  {
   "cell_type": "code",
   "execution_count": 70,
   "metadata": {},
   "outputs": [
    {
     "name": "stdout",
     "output_type": "stream",
     "text": [
      "1\n",
      "4\n",
      "7\n",
      "10\n",
      "13\n"
     ]
    }
   ],
   "source": [
    "for i in range(1,14,3):\n",
    "    print(i)"
   ]
  },
  {
   "cell_type": "code",
   "execution_count": 72,
   "metadata": {},
   "outputs": [
    {
     "name": "stdout",
     "output_type": "stream",
     "text": [
      "3\n",
      "4\n",
      "5\n",
      "6\n",
      "7\n",
      "8\n",
      "9\n",
      "10\n",
      "11\n",
      "12\n"
     ]
    }
   ],
   "source": [
    "#3.7\n",
    "for i in range(3, 13): \n",
    "    print(i)\n",
    "\n",
    "\n"
   ]
  },
  {
   "cell_type": "code",
   "execution_count": 71,
   "metadata": {},
   "outputs": [
    {
     "name": "stdout",
     "output_type": "stream",
     "text": [
      "0\n",
      "2\n",
      "4\n",
      "6\n",
      "8\n"
     ]
    }
   ],
   "source": [
    "for i in range(0, 10, 2):\n",
    "    print(i)"
   ]
  },
  {
   "cell_type": "code",
   "execution_count": 73,
   "metadata": {},
   "outputs": [
    {
     "name": "stdout",
     "output_type": "stream",
     "text": [
      "0\n",
      "3\n",
      "6\n",
      "9\n",
      "12\n",
      "15\n",
      "18\n",
      "21\n"
     ]
    }
   ],
   "source": [
    "for i in range(0, 24, 3): \n",
    "    print(i)"
   ]
  },
  {
   "cell_type": "code",
   "execution_count": 74,
   "metadata": {},
   "outputs": [
    {
     "name": "stdout",
     "output_type": "stream",
     "text": [
      "3\n",
      "8\n"
     ]
    }
   ],
   "source": [
    "for i in range(3,12, 5): \n",
    "    print(i)"
   ]
  },
  {
   "cell_type": "code",
   "execution_count": 75,
   "metadata": {},
   "outputs": [
    {
     "data": {
      "text/plain": [
       "8"
      ]
     },
     "execution_count": 75,
     "metadata": {},
     "output_type": "execute_result"
    }
   ],
   "source": [
    "len(\"goldfish\")"
   ]
  },
  {
   "cell_type": "code",
   "execution_count": 76,
   "metadata": {},
   "outputs": [
    {
     "data": {
      "text/plain": [
       "3"
      ]
     },
     "execution_count": 76,
     "metadata": {},
     "output_type": "execute_result"
    }
   ],
   "source": [
    "len([\"goldfish\",\"cat\",\"dog\"])"
   ]
  },
  {
   "cell_type": "code",
   "execution_count": 77,
   "metadata": {},
   "outputs": [
    {
     "data": {
      "text/plain": [
       "7"
      ]
     },
     "execution_count": 77,
     "metadata": {},
     "output_type": "execute_result"
    }
   ],
   "source": [
    "max(4,7)"
   ]
  },
  {
   "cell_type": "code",
   "execution_count": 81,
   "metadata": {},
   "outputs": [
    {
     "data": {
      "text/plain": [
       "22"
      ]
     },
     "execution_count": 81,
     "metadata": {},
     "output_type": "execute_result"
    }
   ],
   "source": [
    "sum([4,5,6,7])"
   ]
  },
  {
   "cell_type": "code",
   "execution_count": 82,
   "metadata": {},
   "outputs": [
    {
     "name": "stdout",
     "output_type": "stream",
     "text": [
      "82\n"
     ]
    }
   ],
   "source": [
    "def f(x):\n",
    "    res=(x**2)+1\n",
    "    return res\n",
    "print(f(9))"
   ]
  },
  {
   "cell_type": "code",
   "execution_count": 84,
   "metadata": {},
   "outputs": [
    {
     "name": "stdout",
     "output_type": "stream",
     "text": [
      "34\n"
     ]
    }
   ],
   "source": [
    "def f(x):\n",
    "    res=(x**2)+1\n",
    "    return res\n",
    "print(3*f(3)+4)"
   ]
  },
  {
   "cell_type": "code",
   "execution_count": 85,
   "metadata": {},
   "outputs": [
    {
     "name": "stdout",
     "output_type": "stream",
     "text": [
      "6.283185307179586\n"
     ]
    }
   ],
   "source": [
    "#3.8\n",
    "import math\n",
    "def perimeter(r):\n",
    "    per = 2*math.pi*r\n",
    "    return per\n",
    "print(perimeter(1))"
   ]
  },
  {
   "cell_type": "code",
   "execution_count": 86,
   "metadata": {},
   "outputs": [
    {
     "name": "stdout",
     "output_type": "stream",
     "text": [
      "12.566370614359172\n"
     ]
    }
   ],
   "source": [
    "#3.8\n",
    "import math\n",
    "def perimeter(r):\n",
    "    per = 2*math.pi*r\n",
    "    return per\n",
    "print(perimeter(2))"
   ]
  },
  {
   "cell_type": "code",
   "execution_count": 88,
   "metadata": {},
   "outputs": [
    {
     "name": "stdout",
     "output_type": "stream",
     "text": [
      "20\n"
     ]
    }
   ],
   "source": [
    "def squaresum(x,y):\n",
    "    return x**2 + y**2\n",
    "print(squaresum(2,4))"
   ]
  },
  {
   "cell_type": "code",
   "execution_count": 89,
   "metadata": {},
   "outputs": [
    {
     "name": "stdout",
     "output_type": "stream",
     "text": [
      "1.5\n"
     ]
    }
   ],
   "source": [
    "#3.9\n",
    "def average(n, n1):\n",
    "    avg = (n + n1) / 2\n",
    "    return avg\n",
    "print(average(1,2))"
   ]
  },
  {
   "cell_type": "code",
   "execution_count": 90,
   "metadata": {},
   "outputs": [
    {
     "name": "stdout",
     "output_type": "stream",
     "text": [
      "2.75\n"
     ]
    }
   ],
   "source": [
    "def average(n, n1):\n",
    "    avg = (n + n1) / 2\n",
    "    return avg\n",
    "print(average(2,3.5))"
   ]
  },
  {
   "cell_type": "code",
   "execution_count": 96,
   "metadata": {},
   "outputs": [
    {
     "name": "stdout",
     "output_type": "stream",
     "text": [
      "True\n",
      "True\n",
      "False\n"
     ]
    }
   ],
   "source": [
    "#3.10\n",
    "def noVowel(s):\n",
    "    for c in s:\n",
    "        if (c in 'aeiou') or (c in 'AEIOU'):\n",
    "            return False\n",
    "    return True\n",
    "print(noVowel(\"crypt\"))\n",
    "print(noVowel(\"cwm\"))\n",
    "print(noVowel(\"car\"))"
   ]
  },
  {
   "cell_type": "code",
   "execution_count": 102,
   "metadata": {},
   "outputs": [
    {
     "name": "stdout",
     "output_type": "stream",
     "text": [
      "True\n",
      "False\n"
     ]
    }
   ],
   "source": [
    "#3.11\n",
    "def allEven(lst):\n",
    "    for x in lst:\n",
    "        if x%2 != 0:\n",
    "            return False\n",
    "    return True\n",
    "print(allEven([8,0,-2,4,-6,10]))\n",
    "print(allEven([8,0,-1,4,-6,10]))"
   ]
  },
  {
   "cell_type": "code",
   "execution_count": 106,
   "metadata": {},
   "outputs": [
    {
     "name": "stdout",
     "output_type": "stream",
     "text": [
      "Hello,soe!\n",
      "\n"
     ]
    }
   ],
   "source": [
    "def hello(name):\n",
    "    print(\"Hello,\"+name+ \"!\")\n",
    "    return\"\"\n",
    "print(hello(\"soe\"))    "
   ]
  },
  {
   "cell_type": "code",
   "execution_count": 114,
   "metadata": {},
   "outputs": [
    {
     "name": "stdout",
     "output_type": "stream",
     "text": [
      "-1\n",
      "-3\n",
      "-9\n",
      "None\n"
     ]
    }
   ],
   "source": [
    "#3.12\n",
    "def negatives(lst):\n",
    "     for x in lst:\n",
    "        if x < 0:\n",
    "            print(x)\n",
    "print(negatives([4,0,-1,-3,6,-9]))        "
   ]
  },
  {
   "cell_type": "code",
   "execution_count": 117,
   "metadata": {},
   "outputs": [
    {
     "name": "stdout",
     "output_type": "stream",
     "text": [
      "Enter square or cube: cube\n",
      "27\n"
     ]
    }
   ],
   "source": [
    "s=input(\"Enter square or cube: \")\n",
    "if s==\"square\":\n",
    "    def f(x):\n",
    "        return x*x\n",
    "else:\n",
    "    def f(x):\n",
    "        return x*x*x\n",
    "print(f(3))"
   ]
  },
  {
   "cell_type": "code",
   "execution_count": 118,
   "metadata": {},
   "outputs": [
    {
     "name": "stdout",
     "output_type": "stream",
     "text": [
      "5\n"
     ]
    }
   ],
   "source": [
    "def f(x):\n",
    "    res=x**2+1\n",
    "    return res\n",
    "print(f(2))"
   ]
  },
  {
   "cell_type": "code",
   "execution_count": 122,
   "metadata": {},
   "outputs": [
    {
     "name": "stdout",
     "output_type": "stream",
     "text": [
      "3.0\n"
     ]
    }
   ],
   "source": [
    "#3.13\n",
    "\n",
    "def average(n1, n2):\n",
    "    'Calculates and return average of 2 numbers n1 and n2.'\n",
    "    avg = (n1 + n2) / 2\n",
    "    return avg\n",
    "print(average(2,4))"
   ]
  },
  {
   "cell_type": "code",
   "execution_count": 125,
   "metadata": {},
   "outputs": [
    {
     "name": "stdout",
     "output_type": "stream",
     "text": [
      "-1\n",
      "-3\n",
      "-9\n",
      "None\n"
     ]
    }
   ],
   "source": [
    "def negatives(list):\n",
    "    'prints all negative numbers in list list one in a line.'\n",
    "    for x in list:\n",
    "         if x < 0:\n",
    "            print(x)\n",
    "print(negatives([4,0,-1,-3,6,-9]))"
   ]
  },
  {
   "cell_type": "code",
   "execution_count": 127,
   "metadata": {},
   "outputs": [
    {
     "name": "stdout",
     "output_type": "stream",
     "text": [
      "[2, 3, 5, 7, 11]\n"
     ]
    }
   ],
   "source": [
    "d=[2,3,5,8,11]\n",
    "d[3]=7\n",
    "print(d)"
   ]
  },
  {
   "cell_type": "code",
   "execution_count": 129,
   "metadata": {},
   "outputs": [
    {
     "name": "stdout",
     "output_type": "stream",
     "text": [
      "[2, 3, 4] [2, 3, 4]\n",
      "[2, 8, 4]\n"
     ]
    }
   ],
   "source": [
    "a=[2,3,4]\n",
    "b=a\n",
    "print(a,b)\n",
    "b[1]=8\n",
    "print(b)"
   ]
  },
  {
   "cell_type": "code",
   "execution_count": 132,
   "metadata": {},
   "outputs": [
    {
     "name": "stdout",
     "output_type": "stream",
     "text": [
      "[5, 6, 7]\n",
      "3\n"
     ]
    }
   ],
   "source": [
    "#3.14\n",
    "a=[5,6,7]\n",
    "b=a\n",
    "print(b)\n",
    "a=3\n",
    "print(a)"
   ]
  },
  {
   "cell_type": "code",
   "execution_count": 133,
   "metadata": {},
   "outputs": [
    {
     "name": "stdout",
     "output_type": "stream",
     "text": [
      "3\n",
      "6\n"
     ]
    }
   ],
   "source": [
    "a=6\n",
    "b=3\n",
    "a,b=b,a\n",
    "print(a)\n",
    "print(b)"
   ]
  },
  {
   "cell_type": "code",
   "execution_count": 134,
   "metadata": {},
   "outputs": [
    {
     "name": "stdout",
     "output_type": "stream",
     "text": [
      "['sarah', 'Elenor', 'clare', 'Ava']\n"
     ]
    }
   ],
   "source": [
    "#3.15\n",
    "team=[\"Ava\",\"Elenor\",\"clare\",\"sarah\"]\n",
    "team[0],team[-1] = team[-1],team[0]\n",
    "print(team)"
   ]
  },
  {
   "cell_type": "code",
   "execution_count": 137,
   "metadata": {},
   "outputs": [
    {
     "name": "stdout",
     "output_type": "stream",
     "text": [
      "[5, 6, 9, 12]\n"
     ]
    }
   ],
   "source": [
    "def h(lst):\n",
    "    lst[0]=5\n",
    "    return lst\n",
    "mylst=[3,6,9,12]\n",
    "print(h(mylst))"
   ]
  },
  {
   "cell_type": "code",
   "execution_count": 142,
   "metadata": {},
   "outputs": [
    {
     "name": "stdout",
     "output_type": "stream",
     "text": [
      "\n",
      "['apples', 'sugar', 'butter', 'flour']\n"
     ]
    }
   ],
   "source": [
    "#3.16\n",
    "def swap(team):\n",
    "    team[0],team[-1] = team[-1],team[0]\n",
    "    return\"\"\n",
    "ingredients=[\"flour\",\"sugar\",\"butter\",\"apples\"]\n",
    "print(swap(ingredients))\n",
    "print(ingredients)"
   ]
  },
  {
   "cell_type": "code",
   "execution_count": null,
   "metadata": {},
   "outputs": [],
   "source": [
    "#Exercise"
   ]
  },
  {
   "cell_type": "code",
   "execution_count": 163,
   "metadata": {},
   "outputs": [
    {
     "name": "stdout",
     "output_type": "stream",
     "text": [
      "7\n"
     ]
    },
    {
     "ename": "SyntaxError",
     "evalue": "invalid syntax (<string>, line 1)",
     "output_type": "error",
     "traceback": [
      "\u001b[0;36m  File \u001b[0;32m\"<string>\"\u001b[0;36m, line \u001b[0;32m1\u001b[0m\n\u001b[0;31m    x=5\u001b[0m\n\u001b[0m     ^\u001b[0m\n\u001b[0;31mSyntaxError\u001b[0m\u001b[0;31m:\u001b[0m invalid syntax\n"
     ]
    }
   ],
   "source": [
    "print(eval(\"2*3+1\"))\n",
    "eval(\"'hello'\")\n",
    "eval(\"'hello'+''+'world!'\")\n",
    "eval(\"'ASCII'.count('I')\")\n",
    "eval('x=5')#eror can't take varaible assignment"
   ]
  },
  {
   "cell_type": "code",
   "execution_count": 166,
   "metadata": {},
   "outputs": [
    {
     "name": "stdout",
     "output_type": "stream",
     "text": [
      "OK\n",
      "not ok\n",
      "not ok\n",
      "OK\n"
     ]
    }
   ],
   "source": [
    "a,b,c=3,4,5\n",
    "if a < b :\n",
    "    print(\"OK\")\n",
    "\n",
    "if c < b :\n",
    "    print(\"OK\")\n",
    "else: \n",
    "    print(\"not ok\")\n",
    "    \n",
    "if a+b == c :\n",
    "    print(\"OK\")\n",
    "else: \n",
    "    print(\"not ok\")\n",
    "if a**2+b**2 == c**2 :\n",
    "    print(\"OK\")"
   ]
  },
  {
   "cell_type": "code",
   "execution_count": 167,
   "metadata": {},
   "outputs": [
    {
     "name": "stdout",
     "output_type": "stream",
     "text": [
      "Jan\n",
      "Feb\n",
      "Mar\n"
     ]
    }
   ],
   "source": [
    "lst=[\"January\",\"February\",\"March\"]\n",
    "for word in lst:\n",
    "    print(word[:3])"
   ]
  },
  {
   "cell_type": "code",
   "execution_count": 170,
   "metadata": {},
   "outputs": [
    {
     "name": "stdout",
     "output_type": "stream",
     "text": [
      "2\n",
      "4\n",
      "6\n",
      "8\n"
     ]
    }
   ],
   "source": [
    "lst=[2,3,4,5,6,7,8,9]\n",
    "for x in lst:\n",
    "    if x%2 ==0:\n",
    "        print(x)"
   ]
  },
  {
   "cell_type": "code",
   "execution_count": 171,
   "metadata": {},
   "outputs": [
    {
     "name": "stdout",
     "output_type": "stream",
     "text": [
      "4\n",
      "8\n"
     ]
    }
   ],
   "source": [
    "lst=[2,3,4,5,6,7,8]\n",
    "for x in lst:\n",
    "    if(x**2)%8==0:\n",
    "        print(x)"
   ]
  },
  {
   "cell_type": "code",
   "execution_count": 175,
   "metadata": {},
   "outputs": [
    {
     "name": "stdout",
     "output_type": "stream",
     "text": [
      "01"
     ]
    }
   ],
   "source": [
    "for i in range(2):\n",
    "    print(i,end=\"\")"
   ]
  },
  {
   "cell_type": "code",
   "execution_count": 176,
   "metadata": {},
   "outputs": [
    {
     "name": "stdout",
     "output_type": "stream",
     "text": [
      "0"
     ]
    }
   ],
   "source": [
    "for i in range(1):\n",
    "    print(i,end=\"\")"
   ]
  },
  {
   "cell_type": "code",
   "execution_count": 177,
   "metadata": {},
   "outputs": [
    {
     "name": "stdout",
     "output_type": "stream",
     "text": [
      "3 4 5 6 "
     ]
    }
   ],
   "source": [
    "for i in range(3,7):\n",
    "    print(i,end=\" \")"
   ]
  },
  {
   "cell_type": "code",
   "execution_count": 178,
   "metadata": {},
   "outputs": [
    {
     "name": "stdout",
     "output_type": "stream",
     "text": [
      "1 "
     ]
    }
   ],
   "source": [
    "for i in range(1,2):\n",
    "    print(i,end=\" \")"
   ]
  },
  {
   "cell_type": "code",
   "execution_count": 179,
   "metadata": {},
   "outputs": [
    {
     "name": "stdout",
     "output_type": "stream",
     "text": [
      "0 3 "
     ]
    }
   ],
   "source": [
    "for i in range(0,4,3):\n",
    "    print(i,end=\" \")"
   ]
  },
  {
   "cell_type": "code",
   "execution_count": 180,
   "metadata": {},
   "outputs": [
    {
     "name": "stdout",
     "output_type": "stream",
     "text": [
      "5 9 13 17 21 "
     ]
    }
   ],
   "source": [
    "for i in range(5,22,4):\n",
    "    print(i,end=\" \")"
   ]
  },
  {
   "cell_type": "code",
   "execution_count": 181,
   "metadata": {},
   "outputs": [
    {
     "name": "stdout",
     "output_type": "stream",
     "text": [
      "cia\n",
      "mi6\n",
      "lsi\n"
     ]
    }
   ],
   "source": [
    "lst=[\"cia\",\"secret\",\"mi6\",\"lsi\"]\n",
    "for word in lst:\n",
    "    if word != \"secret\":\n",
    "        print(word)"
   ]
  },
  {
   "cell_type": "code",
   "execution_count": 5,
   "metadata": {},
   "outputs": [
    {
     "name": "stdout",
     "output_type": "stream",
     "text": [
      "Enter list: Ellie,Gavin,Sam\n",
      "E\n",
      "G\n"
     ]
    }
   ],
   "source": [
    "lst = str(input(\"Enter list: \" ))\n",
    "for word in lst:\n",
    "    if word[0] >= \"A\" and word[0] <= \"M\":\n",
    "        print(word)"
   ]
  },
  {
   "cell_type": "code",
   "execution_count": 2,
   "metadata": {},
   "outputs": [
    {
     "name": "stdout",
     "output_type": "stream",
     "text": [
      "Enter a list: 1,3,4,5,5,6\n",
      "The first list element is 1\n",
      "The last list element is 6\n"
     ]
    }
   ],
   "source": [
    "list = eval(input(\"Enter a list: \" ))\n",
    "print(\"The first list element is\",list[0])\n",
    "print(\"The last list element is\",list[-1])"
   ]
  },
  {
   "cell_type": "code",
   "execution_count": 6,
   "metadata": {},
   "outputs": [
    {
     "name": "stdout",
     "output_type": "stream",
     "text": [
      "Enter n: 5\n",
      "0\n",
      "1\n",
      "4\n",
      "9\n",
      "16\n"
     ]
    }
   ],
   "source": [
    "number = eval(input(\"Enter n: \" ))\n",
    "for i in range(number):\n",
    "    print(i*i)"
   ]
  },
  {
   "cell_type": "code",
   "execution_count": 3,
   "metadata": {},
   "outputs": [
    {
     "name": "stdout",
     "output_type": "stream",
     "text": [
      "Enter n: 49\n",
      "1\n",
      "7\n",
      "49\n"
     ]
    }
   ],
   "source": [
    "number = eval(input(\"Enter n: \" ))\n",
    "for i in range(1,number+1):\n",
    "    if(number%i==0):\n",
    "        print(i)"
   ]
  },
  {
   "cell_type": "code",
   "execution_count": null,
   "metadata": {},
   "outputs": [],
   "source": [
    "m = eval(input(\"Enter n: \" ))\n",
    "for i in range(4):\n",
    "        print(i*m,end=\" \")"
   ]
  },
  {
   "cell_type": "code",
   "execution_count": 7,
   "metadata": {},
   "outputs": [
    {
     "name": "stdout",
     "output_type": "stream",
     "text": [
      "Enter first number: 4.5\n",
      "Enter second number: 3\n",
      "Enter third number: 3\n",
      "Enter last number: 3.5\n",
      "Equal\n"
     ]
    }
   ],
   "source": [
    "n1 = eval(input(\"Enter first number: \" ))\n",
    "n2 = eval(input(\"Enter second number: \" ))\n",
    "n3 = eval(input(\"Enter third number: \" ))\n",
    "n4 = eval(input(\"Enter last number: \" ))\n",
    "if (n1+n2+n3)/3 == n4:\n",
    "    print(\"Equal\")"
   ]
  },
  {
   "cell_type": "code",
   "execution_count": 8,
   "metadata": {},
   "outputs": [
    {
     "name": "stdout",
     "output_type": "stream",
     "text": [
      "Enter x: 2.5\n",
      "Enter y: 4\n",
      "It is in!\n"
     ]
    }
   ],
   "source": [
    "x = eval(input(\"Enter x: \" ))\n",
    "y = eval(input(\"Enter y: \" ))\n",
    "if x**2+y**2 < 8**2:\n",
    "    print(\"It is in!\")"
   ]
  },
  {
   "cell_type": "code",
   "execution_count": 17,
   "metadata": {},
   "outputs": [
    {
     "name": "stdout",
     "output_type": "stream",
     "text": [
      "Enter n: 1234\n",
      "0\n"
     ]
    },
    {
     "ename": "OverflowError",
     "evalue": "integer division result too large for a float",
     "output_type": "error",
     "traceback": [
      "\u001b[0;31m---------------------------------------------------------------------------\u001b[0m",
      "\u001b[0;31mOverflowError\u001b[0m                             Traceback (most recent call last)",
      "\u001b[0;32m<ipython-input-17-4aef50603927>\u001b[0m in \u001b[0;36m<module>\u001b[0;34m()\u001b[0m\n\u001b[1;32m      6\u001b[0m     \u001b[0mprint\u001b[0m\u001b[0;34m(\u001b[0m\u001b[0mint\u001b[0m\u001b[0;34m(\u001b[0m\u001b[0mn\u001b[0m\u001b[0;34m/\u001b[0m\u001b[0mx\u001b[0m\u001b[0;34m)\u001b[0m\u001b[0;34m)\u001b[0m\u001b[0;34m\u001b[0m\u001b[0;34m\u001b[0m\u001b[0m\n\u001b[1;32m      7\u001b[0m     \u001b[0mn\u001b[0m \u001b[0;34m=\u001b[0m \u001b[0mn\u001b[0m\u001b[0;34m%\u001b[0m\u001b[0mx\u001b[0m\u001b[0;34m\u001b[0m\u001b[0;34m\u001b[0m\u001b[0m\n\u001b[0;32m----> 8\u001b[0;31m     \u001b[0mx\u001b[0m \u001b[0;34m=\u001b[0m \u001b[0mx\u001b[0m\u001b[0;34m/\u001b[0m\u001b[0;36m10\u001b[0m\u001b[0;34m\u001b[0m\u001b[0;34m\u001b[0m\u001b[0m\n\u001b[0m",
      "\u001b[0;31mOverflowError\u001b[0m: integer division result too large for a float"
     ]
    }
   ],
   "source": [
    "n = eval(input(\"Enter n: \"))\n",
    "x = 10\n",
    "while(n/(10*x)!=0):\n",
    "    x=x*10\n",
    "while(n>0):\n",
    "    print(int(n/x))\n",
    "    n = n%x\n",
    "    x = x/10"
   ]
  },
  {
   "cell_type": "code",
   "execution_count": 19,
   "metadata": {},
   "outputs": [
    {
     "name": "stdout",
     "output_type": "stream",
     "text": [
      "olleh\n"
     ]
    }
   ],
   "source": [
    "def reverse_string(s):\n",
    "    return s[::-1]\n",
    "print(reverse_string(\"hello\"))"
   ]
  },
  {
   "cell_type": "code",
   "execution_count": 25,
   "metadata": {},
   "outputs": [
    {
     "name": "stdout",
     "output_type": "stream",
     "text": [
      "350\n",
      "475.0\n"
     ]
    }
   ],
   "source": [
    "def pay(wage,hours):\n",
    "    payment = 0\n",
    "    if(hours > 40):\n",
    "        payment = payment + (hours-40)*wage*1.5\n",
    "        payment = payment + (40)*wage\n",
    "    else:\n",
    "        payment = payment + hours*wage\n",
    "    return payment\n",
    "print(pay(10,35))\n",
    "print(pay(10,45))"
   ]
  },
  {
   "cell_type": "code",
   "execution_count": 27,
   "metadata": {},
   "outputs": [
    {
     "name": "stdout",
     "output_type": "stream",
     "text": [
      "0.5\n",
      "0.25\n"
     ]
    }
   ],
   "source": [
    "def prob(n):\n",
    "    return 2**(-n)\n",
    "print(prob(1))\n",
    "print(prob(2))"
   ]
  },
  {
   "cell_type": "code",
   "execution_count": 35,
   "metadata": {},
   "outputs": [
    {
     "name": "stdout",
     "output_type": "stream",
     "text": [
      "321\n",
      "809\n"
     ]
    }
   ],
   "source": [
    "def reverse_int(n):\n",
    "    x=0\n",
    "    while(n!=0):\n",
    "        x*=10\n",
    "        x+=n%10\n",
    "        n=n//10\n",
    "    return x\n",
    "print(reverse_int(123))\n",
    "print(reverse_int(908))"
   ]
  },
  {
   "cell_type": "code",
   "execution_count": 40,
   "metadata": {},
   "outputs": [
    {
     "name": "stdout",
     "output_type": "stream",
     "text": [
      "The slope is 1.0 and the distance is 1.4142135623730951\n",
      "None\n",
      "The slope is infinity and the distance is 1.0\n",
      "None\n"
     ]
    }
   ],
   "source": [
    "import math\n",
    "def points(x1,y1,x2,y2):\n",
    "    distance = str(math.sqrt((x1-x2)**2+(y1-y2)**2))\n",
    "    if(x1==x2):\n",
    "        slope = \"infinity\"\n",
    "    else:\n",
    "        slope = str((y2-y1)/(x2-x1))\n",
    "    print(\"The slope is \"+slope+\" and the distance is \"+distance)\n",
    "print(points(0,0,1,1))\n",
    "print(points(0,0,0,1))"
   ]
  },
  {
   "cell_type": "code",
   "execution_count": 44,
   "metadata": {},
   "outputs": [
    {
     "name": "stdout",
     "output_type": "stream",
     "text": [
      "Tu\n"
     ]
    }
   ],
   "source": [
    "def abbre(day):\n",
    "    if(day == \"Monday\"):\n",
    "        return \"Mon\"\n",
    "    elif(day == \"Tuesday\"):\n",
    "        return \"Tu\"\n",
    "    elif(day == \"Wednesday\"):\n",
    "        return \"Wed\"\n",
    "    elif(day == \"Thursday\"):\n",
    "        return \"Th\"\n",
    "    elif(day == \"Friday\"):\n",
    "         return \"Fri\"\n",
    "    elif(day == \"Saturday\"):\n",
    "        return \"Sat\"\n",
    "    elif(day == \"Sunday\"):\n",
    "        return \"Sun\"\n",
    "print(abbre(\"Tuesday\"))    "
   ]
  },
  {
   "cell_type": "code",
   "execution_count": 47,
   "metadata": {},
   "outputs": [
    {
     "name": "stdout",
     "output_type": "stream",
     "text": [
      "True\n",
      "False\n"
     ]
    }
   ],
   "source": [
    "def collision(x1,y1,r1,x2,y2,r2):\n",
    "    if(math.sqrt((x1-x2)**2+(y1-y2)**2) > r1+r2):\n",
    "        return False\n",
    "    else:\n",
    "        return True\n",
    "print(collision(0,0,3,0,5,3))   \n",
    "print(collision(0,0,1.4,2,2,1.4)) "
   ]
  },
  {
   "cell_type": "code",
   "execution_count": 52,
   "metadata": {},
   "outputs": [
    {
     "name": "stdout",
     "output_type": "stream",
     "text": [
      "Eleanor\n",
      "Evelyn\n",
      "Gavin\n",
      "\n"
     ]
    }
   ],
   "source": [
    "def partition(list):\n",
    "    for name in list:\n",
    "          if name[0] >= \"A\" and name[0] <= \"M\":\n",
    "                print(name)\n",
    "    return\"\"           \n",
    "print(partition([\"Eleanor\",\"Evelyn\",\"Sammy\",\"Owen\",\"Gavin\"]))                "
   ]
  },
  {
   "cell_type": "code",
   "execution_count": 54,
   "metadata": {},
   "outputs": [
    {
     "name": "stdout",
     "output_type": "stream",
     "text": [
      "campus, A.\n"
     ]
    }
   ],
   "source": [
    "def lastF(firstname,lastname):\n",
    "    return lastname+\", \"+firstname[0]+\".\"\n",
    "print(lastF(\"Albert\",\"campus\"))"
   ]
  },
  {
   "cell_type": "code",
   "execution_count": 57,
   "metadata": {},
   "outputs": [
    {
     "name": "stdout",
     "output_type": "stream",
     "text": [
      "90.0\n",
      "60.0\n",
      "89.0\n",
      "87.0\n",
      "11.0\n",
      "\n"
     ]
    }
   ],
   "source": [
    "def avg(lists):\n",
    "     for list in lists:\n",
    "        print(sum(list)/len(list))\n",
    "     return''  \n",
    "print(avg([[95,92,86,87],[66,54],[89],[89,72,100],[33,0,0]]))        "
   ]
  },
  {
   "cell_type": "code",
   "execution_count": 59,
   "metadata": {},
   "outputs": [
    {
     "name": "stdout",
     "output_type": "stream",
     "text": [
      "False\n",
      "True\n"
     ]
    }
   ],
   "source": [
    "import math\n",
    "def hit(x1,y1,r,x2,y2):\n",
    "    if(math.sqrt((x1-x2)**2+(y1-y2)**2) > r):\n",
    "        return True\n",
    "    else:\n",
    "        return False\n",
    "    return\"\"\n",
    "print(hit(0,0,3,3,0))\n",
    "print(hit(0,0,3,4,0))"
   ]
  },
  {
   "cell_type": "code",
   "execution_count": 62,
   "metadata": {},
   "outputs": [
    {
     "name": "stdout",
     "output_type": "stream",
     "text": [
      "1.0208700000000002\n"
     ]
    }
   ],
   "source": [
    "def distance(n):\n",
    "    return n*340.29/1000\n",
    "print(distance(3))"
   ]
  }
 ],
 "metadata": {
  "kernelspec": {
   "display_name": "Python 3",
   "language": "python",
   "name": "python3"
  },
  "language_info": {
   "codemirror_mode": {
    "name": "ipython",
    "version": 3
   },
   "file_extension": ".py",
   "mimetype": "text/x-python",
   "name": "python",
   "nbconvert_exporter": "python",
   "pygments_lexer": "ipython3",
   "version": "3.6.8"
  }
 },
 "nbformat": 4,
 "nbformat_minor": 2
}
